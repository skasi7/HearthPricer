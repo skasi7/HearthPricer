{
 "cells": [
  {
   "cell_type": "markdown",
   "metadata": {},
   "source": [
    "# Bootstrap"
   ]
  },
  {
   "cell_type": "markdown",
   "metadata": {},
   "source": [
    "## Load the JSON data"
   ]
  },
  {
   "cell_type": "code",
   "execution_count": 57,
   "metadata": {
    "collapsed": true
   },
   "outputs": [],
   "source": [
    "all_sets_filename = os.path.join('data', 'AllSets.json')"
   ]
  },
  {
   "cell_type": "code",
   "execution_count": 61,
   "metadata": {
    "collapsed": false
   },
   "outputs": [],
   "source": [
    "# Uncomment the following lines to update the date file\n",
    "#import urllib\n",
    "#urllib.urlretrieve ('http://hearthstonejson.com/json/AllSets.json', all_sets_filename)"
   ]
  },
  {
   "cell_type": "code",
   "execution_count": 62,
   "metadata": {
    "collapsed": false
   },
   "outputs": [],
   "source": [
    "import json\n",
    "import os.path\n",
    "\n",
    "with open(all_sets_filename) as fp:\n",
    "        all_card_sets = json.load(fp, encoding='utf-8')"
   ]
  },
  {
   "cell_type": "markdown",
   "metadata": {},
   "source": [
    "## Collectible cards"
   ]
  },
  {
   "cell_type": "code",
   "execution_count": 63,
   "metadata": {
    "collapsed": false
   },
   "outputs": [
    {
     "data": {
      "text/plain": [
       "535"
      ]
     },
     "execution_count": 63,
     "metadata": {},
     "output_type": "execute_result"
    }
   ],
   "source": [
    "all_cards = sum((v for k, v in all_card_sets.items()\n",
    "                 if k not in ('Debug', 'Credits', 'Missions', 'System')), list())\n",
    "# Select only collectible cards\n",
    "all_collectible_cards = [card for card in all_cards if u'collectible' in card and card['collectible']]\n",
    "# Remove heroes\n",
    "all_collectible_cards = [card for card in all_collectible_cards\n",
    "                         if 'type' in card and card['type'] != 'Hero']\n",
    "len(all_collectible_cards)"
   ]
  },
  {
   "cell_type": "markdown",
   "metadata": {},
   "source": [
    "## Card tags"
   ]
  },
  {
   "cell_type": "code",
   "execution_count": 64,
   "metadata": {
    "collapsed": false
   },
   "outputs": [
    {
     "data": {
      "text/plain": [
       "{u'artist',\n",
       " u'attack',\n",
       " u'collectible',\n",
       " u'cost',\n",
       " u'durability',\n",
       " u'elite',\n",
       " u'faction',\n",
       " u'flavor',\n",
       " u'health',\n",
       " u'howToGet',\n",
       " u'howToGetGold',\n",
       " u'id',\n",
       " u'inPlayText',\n",
       " u'mechanics',\n",
       " u'name',\n",
       " u'playerClass',\n",
       " u'race',\n",
       " u'rarity',\n",
       " u'text',\n",
       " u'type'}"
      ]
     },
     "execution_count": 64,
     "metadata": {},
     "output_type": "execute_result"
    }
   ],
   "source": [
    "tags = set()\n",
    "for card in all_collectible_cards:\n",
    "    tags.update(set(card.keys()))\n",
    "tags"
   ]
  },
  {
   "cell_type": "code",
   "execution_count": 71,
   "metadata": {
    "collapsed": false
   },
   "outputs": [],
   "source": [
    "# Only interested in these tags for pricer purpouses\n",
    "interest_tags = {u'attack', u'cost', u'durability', u'health', u'id', u'mechanics', u'name',\n",
    "                 u'playerClass', u'text', u'type'}\n",
    "all_collectible_cards = [{k: v for k, v in card.items() if k in interest_tags}\n",
    "                         for card in all_collectible_cards]"
   ]
  },
  {
   "cell_type": "markdown",
   "metadata": {},
   "source": [
    "## Card mechanics"
   ]
  },
  {
   "cell_type": "code",
   "execution_count": 72,
   "metadata": {
    "collapsed": false
   },
   "outputs": [
    {
     "data": {
      "text/plain": [
       "{u'AdjacentBuff',\n",
       " u'AffectedBySpellPower',\n",
       " u'Aura',\n",
       " u'Battlecry',\n",
       " u'Charge',\n",
       " u'Combo',\n",
       " u'Deathrattle',\n",
       " u'Divine Shield',\n",
       " u'Enrage',\n",
       " u'Freeze',\n",
       " u'HealTarget',\n",
       " u'ImmuneToSpellpower',\n",
       " u'Poisonous',\n",
       " u'Secret',\n",
       " u'Silence',\n",
       " u'Spellpower',\n",
       " u'Stealth',\n",
       " u'Taunt',\n",
       " u'Windfury'}"
      ]
     },
     "execution_count": 72,
     "metadata": {},
     "output_type": "execute_result"
    }
   ],
   "source": [
    "mechanics = set()\n",
    "for card in all_collectible_cards:\n",
    "    if 'mechanics' in card:\n",
    "        mechanics.update(set(card['mechanics']))\n",
    "mechanics"
   ]
  },
  {
   "cell_type": "markdown",
   "metadata": {},
   "source": [
    "## Card types"
   ]
  },
  {
   "cell_type": "code",
   "execution_count": 73,
   "metadata": {
    "collapsed": false
   },
   "outputs": [
    {
     "data": {
      "text/plain": [
       "{u'Minion', u'Spell', u'Weapon'}"
      ]
     },
     "execution_count": 73,
     "metadata": {},
     "output_type": "execute_result"
    }
   ],
   "source": [
    "types = set()\n",
    "for card in all_collectible_cards:\n",
    "    if 'type' in card:\n",
    "        types.add(card['type'])\n",
    "types"
   ]
  },
  {
   "cell_type": "markdown",
   "metadata": {},
   "source": [
    "## Big data cards"
   ]
  },
  {
   "cell_type": "code",
   "execution_count": 307,
   "metadata": {
    "collapsed": false
   },
   "outputs": [
    {
     "name": "stdout",
     "output_type": "stream",
     "text": [
      "<class 'pandas.core.frame.DataFrame'>\n",
      "Int64Index: 535 entries, 0 to 534\n",
      "Data columns (total 11 columns):\n",
      "attack         357 non-null float64\n",
      "cost           535 non-null int64\n",
      "durability     18 non-null float64\n",
      "health         339 non-null float64\n",
      "id             535 non-null object\n",
      "mechanics      279 non-null object\n",
      "name           535 non-null object\n",
      "playerClass    306 non-null object\n",
      "text           517 non-null object\n",
      "type           535 non-null object\n",
      "intrinsic      535 non-null int64\n",
      "dtypes: float64(3), int64(2), object(6)\n",
      "memory usage: 37.6+ KB\n"
     ]
    }
   ],
   "source": [
    "import pandas\n",
    "all_collectible_cards_df = pandas.DataFrame(all_collectible_cards)\n",
    "\n",
    "# Set/modify the pricing attributes\n",
    "all_collectible_cards_df['intrinsic'] = -1\n",
    "\n",
    "all_collectible_cards_df.info()"
   ]
  },
  {
   "cell_type": "markdown",
   "metadata": {},
   "source": [
    "# Some statistics"
   ]
  },
  {
   "cell_type": "markdown",
   "metadata": {},
   "source": [
    "# Vanilla test"
   ]
  },
  {
   "cell_type": "code",
   "execution_count": 308,
   "metadata": {
    "collapsed": false
   },
   "outputs": [
    {
     "name": "stdout",
     "output_type": "stream",
     "text": [
      "<class 'pandas.core.frame.DataFrame'>\n",
      "Int64Index: 14 entries, 238 to 517\n",
      "Data columns (total 11 columns):\n",
      "attack         14 non-null float64\n",
      "cost           14 non-null int64\n",
      "durability     0 non-null float64\n",
      "health         14 non-null float64\n",
      "id             14 non-null object\n",
      "mechanics      0 non-null object\n",
      "name           14 non-null object\n",
      "playerClass    0 non-null object\n",
      "text           0 non-null object\n",
      "type           14 non-null object\n",
      "intrinsic      14 non-null int64\n",
      "dtypes: float64(3), int64(2), object(6)\n",
      "memory usage: 1008.0+ bytes\n",
      "<class 'pandas.core.frame.DataFrame'>\n"
     ]
    }
   ],
   "source": [
    "vanilla_minions_df = pandas.DataFrame(\n",
    "    all_collectible_cards_df[(all_collectible_cards_df['type'] == 'Minion') &\n",
    "                             (all_collectible_cards_df['text'].isnull())])\n",
    "vanilla_minions_df.info()\n",
    "print(type(vanilla_minions_df))"
   ]
  },
  {
   "cell_type": "code",
   "execution_count": 309,
   "metadata": {
    "collapsed": false
   },
   "outputs": [
    {
     "data": {
      "text/plain": [
       "array([nan], dtype=object)"
      ]
     },
     "execution_count": 309,
     "metadata": {},
     "output_type": "execute_result"
    }
   ],
   "source": [
    "vanilla_minions_df['mechanics'].unique()"
   ]
  },
  {
   "cell_type": "code",
   "execution_count": 310,
   "metadata": {
    "collapsed": false
   },
   "outputs": [
    {
     "data": {
      "text/html": [
       "<div style=\"max-height:1000px;max-width:1500px;overflow:auto;\">\n",
       "<table border=\"1\" class=\"dataframe\">\n",
       "  <thead>\n",
       "    <tr style=\"text-align: right;\">\n",
       "      <th></th>\n",
       "      <th>name</th>\n",
       "      <th>cost</th>\n",
       "      <th>attack</th>\n",
       "      <th>health</th>\n",
       "    </tr>\n",
       "  </thead>\n",
       "  <tbody>\n",
       "    <tr>\n",
       "      <th>238</th>\n",
       "      <td>             Wisp</td>\n",
       "      <td> 0</td>\n",
       "      <td> 1</td>\n",
       "      <td> 1</td>\n",
       "    </tr>\n",
       "    <tr>\n",
       "      <th>289</th>\n",
       "      <td>  Bloodfen Raptor</td>\n",
       "      <td> 2</td>\n",
       "      <td> 3</td>\n",
       "      <td> 2</td>\n",
       "    </tr>\n",
       "    <tr>\n",
       "      <th>293</th>\n",
       "      <td> Boulderfist Ogre</td>\n",
       "      <td> 6</td>\n",
       "      <td> 6</td>\n",
       "      <td> 7</td>\n",
       "    </tr>\n",
       "    <tr>\n",
       "      <th>295</th>\n",
       "      <td>   Chillwind Yeti</td>\n",
       "      <td> 4</td>\n",
       "      <td> 4</td>\n",
       "      <td> 5</td>\n",
       "    </tr>\n",
       "    <tr>\n",
       "      <th>299</th>\n",
       "      <td>       Core Hound</td>\n",
       "      <td> 7</td>\n",
       "      <td> 9</td>\n",
       "      <td> 5</td>\n",
       "    </tr>\n",
       "    <tr>\n",
       "      <th>347</th>\n",
       "      <td>      Magma Rager</td>\n",
       "      <td> 3</td>\n",
       "      <td> 5</td>\n",
       "      <td> 1</td>\n",
       "    </tr>\n",
       "    <tr>\n",
       "      <th>356</th>\n",
       "      <td>    Murloc Raider</td>\n",
       "      <td> 1</td>\n",
       "      <td> 2</td>\n",
       "      <td> 1</td>\n",
       "    </tr>\n",
       "    <tr>\n",
       "      <th>361</th>\n",
       "      <td>    Oasis Snapjaw</td>\n",
       "      <td> 4</td>\n",
       "      <td> 2</td>\n",
       "      <td> 7</td>\n",
       "    </tr>\n",
       "    <tr>\n",
       "      <th>368</th>\n",
       "      <td>  River Crocolisk</td>\n",
       "      <td> 2</td>\n",
       "      <td> 2</td>\n",
       "      <td> 3</td>\n",
       "    </tr>\n",
       "    <tr>\n",
       "      <th>400</th>\n",
       "      <td>        War Golem</td>\n",
       "      <td> 7</td>\n",
       "      <td> 7</td>\n",
       "      <td> 7</td>\n",
       "    </tr>\n",
       "    <tr>\n",
       "      <th>474</th>\n",
       "      <td> Lost Tallstrider</td>\n",
       "      <td> 4</td>\n",
       "      <td> 5</td>\n",
       "      <td> 4</td>\n",
       "    </tr>\n",
       "    <tr>\n",
       "      <th>497</th>\n",
       "      <td>    Puddlestomper</td>\n",
       "      <td> 2</td>\n",
       "      <td> 3</td>\n",
       "      <td> 2</td>\n",
       "    </tr>\n",
       "    <tr>\n",
       "      <th>502</th>\n",
       "      <td>        Salty Dog</td>\n",
       "      <td> 5</td>\n",
       "      <td> 7</td>\n",
       "      <td> 4</td>\n",
       "    </tr>\n",
       "    <tr>\n",
       "      <th>517</th>\n",
       "      <td>      Spider Tank</td>\n",
       "      <td> 3</td>\n",
       "      <td> 3</td>\n",
       "      <td> 4</td>\n",
       "    </tr>\n",
       "  </tbody>\n",
       "</table>\n",
       "</div>"
      ],
      "text/plain": [
       "                 name  cost  attack  health\n",
       "238              Wisp     0       1       1\n",
       "289   Bloodfen Raptor     2       3       2\n",
       "293  Boulderfist Ogre     6       6       7\n",
       "295    Chillwind Yeti     4       4       5\n",
       "299        Core Hound     7       9       5\n",
       "347       Magma Rager     3       5       1\n",
       "356     Murloc Raider     1       2       1\n",
       "361     Oasis Snapjaw     4       2       7\n",
       "368   River Crocolisk     2       2       3\n",
       "400         War Golem     7       7       7\n",
       "474  Lost Tallstrider     4       5       4\n",
       "497     Puddlestomper     2       3       2\n",
       "502         Salty Dog     5       7       4\n",
       "517       Spider Tank     3       3       4"
      ]
     },
     "execution_count": 310,
     "metadata": {},
     "output_type": "execute_result"
    }
   ],
   "source": [
    "vanilla_minions_df[['name', 'cost', 'attack', 'health']]"
   ]
  },
  {
   "cell_type": "code",
   "execution_count": 312,
   "metadata": {
    "collapsed": false
   },
   "outputs": [
    {
     "data": {
      "text/plain": [
       "array([[ 0.58355876],\n",
       "       [ 0.49202403],\n",
       "       [ 0.75051715]])"
      ]
     },
     "execution_count": 312,
     "metadata": {},
     "output_type": "execute_result"
    }
   ],
   "source": [
    "import numpy\n",
    "\n",
    "a = vanilla_minions_df.as_matrix(['attack', 'health', 'intrinsic'])\n",
    "b = vanilla_minions_df.as_matrix(['cost'])\n",
    "cost_per_point = numpy.linalg.lstsq(a, b)[0]\n",
    "cost_per_point"
   ]
  },
  {
   "cell_type": "code",
   "execution_count": 313,
   "metadata": {
    "collapsed": false
   },
   "outputs": [
    {
     "data": {
      "text/html": [
       "<div style=\"max-height:1000px;max-width:1500px;overflow:auto;\">\n",
       "<table border=\"1\" class=\"dataframe\">\n",
       "  <thead>\n",
       "    <tr style=\"text-align: right;\">\n",
       "      <th></th>\n",
       "      <th>name</th>\n",
       "      <th>cost</th>\n",
       "      <th>value</th>\n",
       "      <th>boost</th>\n",
       "    </tr>\n",
       "  </thead>\n",
       "  <tbody>\n",
       "    <tr>\n",
       "      <th>238</th>\n",
       "      <td>             Wisp</td>\n",
       "      <td> 0</td>\n",
       "      <td> 0.325066</td>\n",
       "      <td> 1.433122</td>\n",
       "    </tr>\n",
       "    <tr>\n",
       "      <th>289</th>\n",
       "      <td>  Bloodfen Raptor</td>\n",
       "      <td> 2</td>\n",
       "      <td> 1.984207</td>\n",
       "      <td> 0.994258</td>\n",
       "    </tr>\n",
       "    <tr>\n",
       "      <th>293</th>\n",
       "      <td> Boulderfist Ogre</td>\n",
       "      <td> 6</td>\n",
       "      <td> 6.195004</td>\n",
       "      <td> 1.028887</td>\n",
       "    </tr>\n",
       "    <tr>\n",
       "      <th>295</th>\n",
       "      <td>   Chillwind Yeti</td>\n",
       "      <td> 4</td>\n",
       "      <td> 4.043838</td>\n",
       "      <td> 1.009228</td>\n",
       "    </tr>\n",
       "    <tr>\n",
       "      <th>299</th>\n",
       "      <td>       Core Hound</td>\n",
       "      <td> 7</td>\n",
       "      <td> 6.961632</td>\n",
       "      <td> 0.995050</td>\n",
       "    </tr>\n",
       "    <tr>\n",
       "      <th>347</th>\n",
       "      <td>      Magma Rager</td>\n",
       "      <td> 3</td>\n",
       "      <td> 2.659301</td>\n",
       "      <td> 0.909159</td>\n",
       "    </tr>\n",
       "    <tr>\n",
       "      <th>356</th>\n",
       "      <td>    Murloc Raider</td>\n",
       "      <td> 1</td>\n",
       "      <td> 0.908624</td>\n",
       "      <td> 0.947801</td>\n",
       "    </tr>\n",
       "    <tr>\n",
       "      <th>361</th>\n",
       "      <td>    Oasis Snapjaw</td>\n",
       "      <td> 4</td>\n",
       "      <td> 3.860769</td>\n",
       "      <td> 0.970691</td>\n",
       "    </tr>\n",
       "    <tr>\n",
       "      <th>368</th>\n",
       "      <td>  River Crocolisk</td>\n",
       "      <td> 2</td>\n",
       "      <td> 1.892672</td>\n",
       "      <td> 0.960979</td>\n",
       "    </tr>\n",
       "    <tr>\n",
       "      <th>400</th>\n",
       "      <td>        War Golem</td>\n",
       "      <td> 7</td>\n",
       "      <td> 6.778562</td>\n",
       "      <td> 0.971429</td>\n",
       "    </tr>\n",
       "    <tr>\n",
       "      <th>474</th>\n",
       "      <td> Lost Tallstrider</td>\n",
       "      <td> 4</td>\n",
       "      <td> 4.135373</td>\n",
       "      <td> 1.028496</td>\n",
       "    </tr>\n",
       "    <tr>\n",
       "      <th>497</th>\n",
       "      <td>    Puddlestomper</td>\n",
       "      <td> 2</td>\n",
       "      <td> 1.984207</td>\n",
       "      <td> 0.994258</td>\n",
       "    </tr>\n",
       "    <tr>\n",
       "      <th>502</th>\n",
       "      <td>        Salty Dog</td>\n",
       "      <td> 5</td>\n",
       "      <td> 5.302490</td>\n",
       "      <td> 1.052602</td>\n",
       "    </tr>\n",
       "    <tr>\n",
       "      <th>517</th>\n",
       "      <td>      Spider Tank</td>\n",
       "      <td> 3</td>\n",
       "      <td> 2.968255</td>\n",
       "      <td> 0.991536</td>\n",
       "    </tr>\n",
       "  </tbody>\n",
       "</table>\n",
       "</div>"
      ],
      "text/plain": [
       "                 name  cost     value     boost\n",
       "238              Wisp     0  0.325066  1.433122\n",
       "289   Bloodfen Raptor     2  1.984207  0.994258\n",
       "293  Boulderfist Ogre     6  6.195004  1.028887\n",
       "295    Chillwind Yeti     4  4.043838  1.009228\n",
       "299        Core Hound     7  6.961632  0.995050\n",
       "347       Magma Rager     3  2.659301  0.909159\n",
       "356     Murloc Raider     1  0.908624  0.947801\n",
       "361     Oasis Snapjaw     4  3.860769  0.970691\n",
       "368   River Crocolisk     2  1.892672  0.960979\n",
       "400         War Golem     7  6.778562  0.971429\n",
       "474  Lost Tallstrider     4  4.135373  1.028496\n",
       "497     Puddlestomper     2  1.984207  0.994258\n",
       "502         Salty Dog     5  5.302490  1.052602\n",
       "517       Spider Tank     3  2.968255  0.991536"
      ]
     },
     "execution_count": 313,
     "metadata": {},
     "output_type": "execute_result"
    }
   ],
   "source": [
    "card_value = cost_per_point[2][0]\n",
    "vanilla_minions_df['value'] = numpy.dot(a, cost_per_point).T[0]\n",
    "vanilla_minions_df['boost'] = (vanilla_minions_df['value'] + card_value) / \\\n",
    "    (vanilla_minions_df['cost'] + card_value)\n",
    "vanilla_minions_df[['name', 'cost', 'value', 'boost']]"
   ]
  },
  {
   "cell_type": "markdown",
   "metadata": {},
   "source": [
    "## 2-cost minions"
   ]
  },
  {
   "cell_type": "code",
   "execution_count": 118,
   "metadata": {
    "collapsed": false
   },
   "outputs": [
    {
     "name": "stdout",
     "output_type": "stream",
     "text": [
      "2-cost minion mean attack: 1.88\n",
      "2-cost minion mean health: 2.45\n"
     ]
    }
   ],
   "source": [
    "two_cost_minions_df = all_collectible_cards_df[(all_collectible_cards_df['type'] == 'Minion') &\n",
    "                                               (all_collectible_cards_df['cost'] == 2)]\n",
    "print('2-cost minion mean attack: {:.2f}'.format(two_cost_minions_df.attack.mean()))\n",
    "print('2-cost minion mean health: {:.2f}'.format(two_cost_minions_df.health.mean()))"
   ]
  },
  {
   "cell_type": "code",
   "execution_count": null,
   "metadata": {
    "collapsed": true
   },
   "outputs": [],
   "source": []
  }
 ],
 "metadata": {
  "kernelspec": {
   "display_name": "Python 2",
   "language": "python",
   "name": "python2"
  },
  "language_info": {
   "codemirror_mode": {
    "name": "ipython",
    "version": 2
   },
   "file_extension": ".py",
   "mimetype": "text/x-python",
   "name": "python",
   "nbconvert_exporter": "python",
   "pygments_lexer": "ipython2",
   "version": "2.7.9"
  }
 },
 "nbformat": 4,
 "nbformat_minor": 0
}
